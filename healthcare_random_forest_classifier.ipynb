{
  "metadata": {
    "kernelspec": {
      "display_name": "base",
      "language": "python",
      "name": "python3"
    },
    "language_info": {
      "codemirror_mode": {
        "name": "ipython",
        "version": 3
      },
      "file_extension": ".py",
      "mimetype": "text/x-python",
      "name": "python",
      "nbconvert_exporter": "python",
      "pygments_lexer": "ipython3",
      "version": "3.9.17"
    },
    "kaggle": {
      "accelerator": "none",
      "dataSources": [
        {
          "sourceId": 6844518,
          "sourceType": "datasetVersion",
          "datasetId": 3934836
        }
      ],
      "dockerImageVersionId": 30587,
      "isInternetEnabled": false,
      "language": "python",
      "sourceType": "notebook",
      "isGpuEnabled": false
    },
    "colab": {
      "provenance": [],
      "include_colab_link": true
    }
  },
  "nbformat_minor": 0,
  "nbformat": 4,
  "cells": [
    {
      "cell_type": "markdown",
      "metadata": {
        "id": "view-in-github",
        "colab_type": "text"
      },
      "source": [
        "<a href=\"https://colab.research.google.com/github/JTaal/bioinformatic_scripts/blob/main/healthcare_random_forest_classifier.ipynb\" target=\"_parent\"><img src=\"https://colab.research.google.com/assets/colab-badge.svg\" alt=\"Open In Colab\"/></a>"
      ]
    },
    {
      "cell_type": "code",
      "source": [
        "# This Python 3 environment comes with many helpful analytics libraries installed\n",
        "# It is defined by the kaggle/python Docker image: https://github.com/kaggle/docker-python\n",
        "# For example, here's several helpful packages to load\n",
        "\n",
        "import numpy as np # linear algebra\n",
        "import pandas as pd # data processing, CSV file I/O (e.g. pd.read_csv)\n",
        "\n",
        "# Input data files are available in the read-only \"../input/\" directory\n",
        "# For example, running this (by clicking run or pressing Shift+Enter) will list all files under the input directory\n",
        "\n",
        "import os\n",
        "for dirname, _, filenames in os.walk('/kaggle/input'):\n",
        "    for filename in filenames:\n",
        "        print(os.path.join(dirname, filename))\n",
        "\n",
        "# You can write up to 20GB to the current directory (/kaggle/working/) that gets preserved as output when you create a version using \"Save & Run All\"\n",
        "# You can also write temporary files to /kaggle/temp/, but they won't be saved outside of the current session"
      ],
      "metadata": {
        "id": "oxOwhExJfXwF"
      },
      "execution_count": null,
      "outputs": []
    },
    {
      "cell_type": "code",
      "source": [
        "import pandas as pd\n",
        "import numpy as np\n",
        "import matplotlib.pyplot as plt\n",
        "import seaborn as sns\n",
        "import os\n",
        "import sys\n",
        "import warnings\n",
        "warnings.filterwarnings('ignore')\n",
        "from numerize import numerize\n",
        "import plotly.express as px\n",
        "\n",
        "\n",
        "pd.set_option('display.max_columns',None)"
      ],
      "metadata": {
        "id": "9m_iupOofXwG"
      },
      "execution_count": null,
      "outputs": []
    },
    {
      "cell_type": "code",
      "source": [
        "#Unzip file from zipfile\n",
        "\n",
        "from zipfile import ZipFile\n",
        "import zipfile\n",
        "\n",
        "filepath = os.getcwd()\n",
        "with zipfile.ZipFile('healthcare_dataset.csv.zip','r') as zip_ref:\n",
        "    zip_ref.extractall(filepath)"
      ],
      "metadata": {
        "id": "-0ePZ78mfXwG"
      },
      "execution_count": null,
      "outputs": []
    },
    {
      "cell_type": "code",
      "source": [
        "df = pd.read_csv('healthcare_dataset.csv')"
      ],
      "metadata": {
        "id": "shdq_PkQfXwG"
      },
      "execution_count": null,
      "outputs": []
    },
    {
      "cell_type": "code",
      "source": [
        "df.head()"
      ],
      "metadata": {
        "id": "j7XK3-aBfXwG"
      },
      "execution_count": null,
      "outputs": []
    },
    {
      "cell_type": "code",
      "source": [
        "#Remove all unwanted white space from dataset\n",
        "df = df.replace(r'\\s+', ' ', regex=True)"
      ],
      "metadata": {
        "id": "M9gB1c9MfXwG"
      },
      "execution_count": null,
      "outputs": []
    },
    {
      "cell_type": "code",
      "source": [
        "#Change the name of columns\n",
        "df.columns = df.columns.str.replace(\" \",\"_\")"
      ],
      "metadata": {
        "id": "Dbi7xhEqfXwH"
      },
      "execution_count": null,
      "outputs": []
    },
    {
      "cell_type": "code",
      "source": [
        "#Checking null values percentage\n",
        "print(\"===\"*25)\n",
        "print(\"Checking Data has null values or not\")\n",
        "print(\"===\"*25)\n",
        "print(round(df.isnull().sum() * 100 / len(df),2))"
      ],
      "metadata": {
        "id": "K3niSeyQfXwH"
      },
      "execution_count": null,
      "outputs": []
    },
    {
      "cell_type": "code",
      "source": [
        "#Information\n",
        "print(\"Data Information\")\n",
        "print(\"===\"*25)\n",
        "print(df.info())"
      ],
      "metadata": {
        "id": "_RCkz70kfXwH"
      },
      "execution_count": null,
      "outputs": []
    },
    {
      "cell_type": "markdown",
      "source": [
        "- Info looks good"
      ],
      "metadata": {
        "id": "kad2-fFEfXwH"
      }
    },
    {
      "cell_type": "code",
      "source": [
        "df.describe().T"
      ],
      "metadata": {
        "id": "q9SK2S41fXwH"
      },
      "execution_count": null,
      "outputs": []
    },
    {
      "cell_type": "code",
      "source": [
        "df.describe(include=object).T"
      ],
      "metadata": {
        "id": "n8zmN6dZfXwI"
      },
      "execution_count": null,
      "outputs": []
    },
    {
      "cell_type": "markdown",
      "source": [
        "- Using describe we can retrieve lot of information"
      ],
      "metadata": {
        "id": "fjho0Lu4fXwI"
      }
    },
    {
      "cell_type": "code",
      "source": [
        "#Dividing dataset into numerical columns and categorical columns\n",
        "df1=df.copy()\n",
        "#Separating numerical and categorical columns\n",
        "num=[]\n",
        "cat=[]\n",
        "for col in df1.columns:\n",
        "    if pd.api.types.is_numeric_dtype(df1[col]):\n",
        "        num.append(col)\n",
        "    elif pd.api.types.is_object_dtype(df1[col]):\n",
        "        cat.append(col)\n",
        "\n",
        "print('Numerical columns : ',num)\n",
        "print('Categorical columns : ',cat)"
      ],
      "metadata": {
        "id": "VEfjOwjBfXwI"
      },
      "execution_count": null,
      "outputs": []
    },
    {
      "cell_type": "code",
      "source": [
        "# Calculate the correlation matrix\n",
        "numerical_columns = df.select_dtypes(include=['int64','float64']).corr()\n",
        "\n",
        "# Visualize the correlation matrix using a heatmap\n",
        "plt.figure(figsize=(20, 6))\n",
        "sns.heatmap(numerical_columns, annot=True, cmap='coolwarm')\n",
        "plt.title(\"Correlation Matrix\")\n",
        "plt.show()"
      ],
      "metadata": {
        "id": "WRcrGEyGfXwI"
      },
      "execution_count": null,
      "outputs": []
    },
    {
      "cell_type": "markdown",
      "source": [
        "- Correlation matrix do not show much of the infomation for plotted dataset\n",
        "- It some what show features are negatively correlated"
      ],
      "metadata": {
        "id": "oNoNxE3xfXwI"
      }
    },
    {
      "cell_type": "code",
      "source": [
        "#Numerical column analysis\n",
        "for i in num:\n",
        "    fig,axes=plt.subplots(1,2,figsize=(20,6))\n",
        "\n",
        "    sns.histplot(df1[i],kde=True,ax=axes[0])\n",
        "    axes[0].set_title(f'Distribution of {i}')\n",
        "    axes[0].grid(True)\n",
        "    axes[1].set_xlabel('')\n",
        "\n",
        "    sns.boxplot(x=df1[i],ax=axes[1])\n",
        "    axes[1].set_title(f'Box plot of {i}')\n",
        "    axes[1].grid(True)\n",
        "    axes[1].set_xlabel('')\n",
        "\n",
        "    plt.tight_layout()\n",
        "    plt.show()"
      ],
      "metadata": {
        "id": "1_4maBZTfXwI"
      },
      "execution_count": null,
      "outputs": []
    },
    {
      "cell_type": "markdown",
      "source": [
        "- we can see as we don't have outliers and data is normally distributed"
      ],
      "metadata": {
        "id": "42I4-osXfXwI"
      }
    },
    {
      "cell_type": "code",
      "source": [
        "df.columns"
      ],
      "metadata": {
        "id": "XfMp3eLXfXwI"
      },
      "execution_count": null,
      "outputs": []
    },
    {
      "cell_type": "markdown",
      "source": [
        "EDA"
      ],
      "metadata": {
        "id": "JoYk03LCfXwI"
      }
    },
    {
      "cell_type": "markdown",
      "source": [
        "Univariate"
      ],
      "metadata": {
        "id": "lOy84GBffXwJ"
      }
    },
    {
      "cell_type": "code",
      "source": [
        "#Hist plot for Quantity\n",
        "plt.figure(figsize=(20,6))\n",
        "sns.histplot(data=df['Age'],kde=True)\n",
        "plt.title('Distibution of Age')\n",
        "plt.xticks(rotation=10)\n",
        "plt.show()"
      ],
      "metadata": {
        "id": "Nwpr94nffXwJ"
      },
      "execution_count": null,
      "outputs": []
    },
    {
      "cell_type": "markdown",
      "source": [
        "- Most of the age is distributed around 20 and also at 80\n",
        "- This shows younger age people's are more aware & concern with health-care rather then people's who's age lies in range of 21 - 65"
      ],
      "metadata": {
        "id": "KZYII9VFfXwJ"
      }
    },
    {
      "cell_type": "code",
      "source": [
        "#Gender count plot\n",
        "\n",
        "fig,ax = plt.subplots(figsize = (20,10))\n",
        "sns.countplot(df, x = \"Gender\", ax = ax,order=df['Gender'].value_counts().index)\n",
        "\n",
        "for rect in ax.patches:\n",
        "    height = rect.get_height()\n",
        "    ax.annotate(text = f\"{numerize.numerize(height)}\",\n",
        "               xy = (rect.get_x()+rect.get_width()/2, height),\n",
        "               xytext = (0,3),\n",
        "               textcoords = \"offset points\",\n",
        "               ha = \"center\",\n",
        "               va = \"bottom\",\n",
        "               color = \"black\")\n",
        "ax.set_title(\"Gender\", fontsize = 10, fontweight = \"bold\", color = \"darkred\")\n",
        "fig.show()"
      ],
      "metadata": {
        "id": "2cquioUzfXwJ"
      },
      "execution_count": null,
      "outputs": []
    },
    {
      "cell_type": "markdown",
      "source": [
        "- This graphs shows there are more females involved in heath care as this can be why women's live longer than men's(count is halfly near and difficult to compare)"
      ],
      "metadata": {
        "id": "BuybaTtWfXwJ"
      }
    },
    {
      "cell_type": "code",
      "source": [
        "#Blood_Type\n",
        "\n",
        "fig,ax = plt.subplots(figsize = (20,10))\n",
        "sns.countplot(df, x = \"Blood_Type\", ax = ax,order=df['Blood_Type'].value_counts().index)\n",
        "\n",
        "for rect in ax.patches:\n",
        "    height = rect.get_height()\n",
        "    ax.annotate(text = f\"{numerize.numerize(height)}\",\n",
        "               xy = (rect.get_x()+rect.get_width()/2, height),\n",
        "               xytext = (0,3),\n",
        "               textcoords = \"offset points\",\n",
        "               ha = \"center\",\n",
        "               va = \"bottom\",\n",
        "               color = \"black\")\n",
        "ax.set_title(\"Blood_Type\", fontsize = 10, fontweight = \"bold\", color = \"darkred\")\n",
        "fig.show()"
      ],
      "metadata": {
        "id": "AqyaoP58fXwJ"
      },
      "execution_count": null,
      "outputs": []
    },
    {
      "cell_type": "markdown",
      "source": [
        "- AB is most counted blood group in the dataset followed up with AB+, B-, O+\n",
        "- Type AB-negative blood is considered a universal plasma donor, meaning anyone can receive type AB-negative plasma"
      ],
      "metadata": {
        "id": "LQTqGpUyfXwJ"
      }
    },
    {
      "cell_type": "code",
      "source": [
        "#Blood_Type\n",
        "\n",
        "fig,ax = plt.subplots(figsize = (20,10))\n",
        "sns.countplot(df, x = \"Medical_Condition\", ax = ax,order=df['Medical_Condition'].value_counts().index)\n",
        "\n",
        "for rect in ax.patches:\n",
        "    height = rect.get_height()\n",
        "    ax.annotate(text = f\"{numerize.numerize(height)}\",\n",
        "               xy = (rect.get_x()+rect.get_width()/2, height),\n",
        "               xytext = (0,3),\n",
        "               textcoords = \"offset points\",\n",
        "               ha = \"center\",\n",
        "               va = \"bottom\",\n",
        "               color = \"black\")\n",
        "ax.set_title(\"Medical_Condition\", fontsize = 10, fontweight = \"bold\", color = \"darkred\")\n",
        "fig.show()"
      ],
      "metadata": {
        "id": "2hFPu1YrfXwJ"
      },
      "execution_count": null,
      "outputs": []
    },
    {
      "cell_type": "markdown",
      "source": [
        "- Most medical-condition is ASTHMA, CANCER, HYPERTENSION\n",
        "- This shows most of the test are taken from most stressfull people segment and we can also sale them health benefits and sale health-insurance."
      ],
      "metadata": {
        "id": "OR7WYUzBfXwJ"
      }
    },
    {
      "cell_type": "code",
      "source": [
        "#Doctor\n",
        "\n",
        "fig,ax = plt.subplots(figsize = (20,10))\n",
        "sns.countplot(df, y = \"Doctor\", ax = ax,order=df['Doctor'].value_counts().iloc[:20].index)\n",
        "ax.set_title(\"Doctor\", fontsize = 10, fontweight = \"bold\", color = \"darkred\")\n",
        "fig.show()"
      ],
      "metadata": {
        "id": "qGEHxc_4fXwJ"
      },
      "execution_count": null,
      "outputs": []
    },
    {
      "cell_type": "markdown",
      "source": [
        "- Most counted doctor is *michael johnson*"
      ],
      "metadata": {
        "id": "KNUPCTRrfXwJ"
      }
    },
    {
      "cell_type": "code",
      "source": [
        "#Hospital\n",
        "\n",
        "fig,ax = plt.subplots(figsize = (20,10))\n",
        "sns.countplot(df, y = \"Hospital\", ax = ax,order=df['Hospital'].value_counts().iloc[:20].index)\n",
        "ax.set_title(\"Hospital\", fontsize = 10, fontweight = \"bold\", color = \"darkred\")\n",
        "fig.show()"
      ],
      "metadata": {
        "id": "LGFCorqufXwJ"
      },
      "execution_count": null,
      "outputs": []
    },
    {
      "cell_type": "markdown",
      "source": [
        "- Most frequent hospital in dataset is SMITH PLC,  and follow up by SMITH AND SONS, SMITH LTD, SMITH INC"
      ],
      "metadata": {
        "id": "It8jJuxCfXwJ"
      }
    },
    {
      "cell_type": "code",
      "source": [
        "#Insurance_Provider\n",
        "\n",
        "fig,ax = plt.subplots(figsize = (20,10))\n",
        "sns.countplot(df, x = \"Insurance_Provider\", ax = ax,order=df['Insurance_Provider'].value_counts().index)\n",
        "\n",
        "for rect in ax.patches:\n",
        "    height = rect.get_height()\n",
        "    ax.annotate(text = f\"{numerize.numerize(height)}\",\n",
        "               xy = (rect.get_x()+rect.get_width()/2, height),\n",
        "               xytext = (0,3),\n",
        "               textcoords = \"offset points\",\n",
        "               ha = \"center\",\n",
        "               va = \"bottom\",\n",
        "               color = \"black\")\n",
        "ax.set_title(\"Insurance_Provider\", fontsize = 10, fontweight = \"bold\", color = \"darkred\")\n",
        "fig.show()"
      ],
      "metadata": {
        "id": "bmpVeIECfXwK"
      },
      "execution_count": null,
      "outputs": []
    },
    {
      "cell_type": "markdown",
      "source": [
        "- Who have buyed cigna health-care are getting ill most."
      ],
      "metadata": {
        "id": "FE2M91n1fXwK"
      }
    },
    {
      "cell_type": "code",
      "source": [
        "#Room_Number\n",
        "\n",
        "fig,ax = plt.subplots(figsize = (20,10))\n",
        "sns.countplot(df, x = \"Room_Number\", ax = ax,order=df['Room_Number'].value_counts().iloc[:20].index)\n",
        "\n",
        "for rect in ax.patches:\n",
        "    height = rect.get_height()\n",
        "    ax.annotate(text = f\"{numerize.numerize(height)}\",\n",
        "               xy = (rect.get_x()+rect.get_width()/2, height),\n",
        "               xytext = (0,3),\n",
        "               textcoords = \"offset points\",\n",
        "               ha = \"center\",\n",
        "               va = \"bottom\",\n",
        "               color = \"black\")\n",
        "ax.set_title(\"Room_Number\", fontsize = 10, fontweight = \"bold\", color = \"darkred\")\n",
        "fig.show()"
      ],
      "metadata": {
        "id": "MZnwcwmtfXwK"
      },
      "execution_count": null,
      "outputs": []
    },
    {
      "cell_type": "code",
      "source": [
        "#Admission_Type\n",
        "\n",
        "fig,ax = plt.subplots(figsize = (20,10))\n",
        "sns.countplot(df, x = \"Admission_Type\", ax = ax,order=df['Admission_Type'].value_counts().index)\n",
        "\n",
        "for rect in ax.patches:\n",
        "    height = rect.get_height()\n",
        "    ax.annotate(text = f\"{numerize.numerize(height)}\",\n",
        "               xy = (rect.get_x()+rect.get_width()/2, height),\n",
        "               xytext = (0,3),\n",
        "               textcoords = \"offset points\",\n",
        "               ha = \"center\",\n",
        "               va = \"bottom\",\n",
        "               color = \"black\")\n",
        "ax.set_title(\"Admission_Type\", fontsize = 10, fontweight = \"bold\", color = \"darkred\")\n",
        "fig.show()"
      ],
      "metadata": {
        "id": "oDEddV_rfXwK"
      },
      "execution_count": null,
      "outputs": []
    },
    {
      "cell_type": "markdown",
      "source": [
        "- Most cases are marked as urgent"
      ],
      "metadata": {
        "id": "otI-5C4NfXwK"
      }
    },
    {
      "cell_type": "code",
      "source": [
        "#Medication\n",
        "\n",
        "fig,ax = plt.subplots(figsize = (20,10))\n",
        "sns.countplot(df, x = \"Medication\", ax = ax,order=df['Medication'].value_counts().index)\n",
        "\n",
        "for rect in ax.patches:\n",
        "    height = rect.get_height()\n",
        "    ax.annotate(text = f\"{numerize.numerize(height)}\",\n",
        "               xy = (rect.get_x()+rect.get_width()/2, height),\n",
        "               xytext = (0,3),\n",
        "               textcoords = \"offset points\",\n",
        "               ha = \"center\",\n",
        "               va = \"bottom\",\n",
        "               color = \"black\")\n",
        "ax.set_title(\"Medication\", fontsize = 10, fontweight = \"bold\", color = \"darkred\")\n",
        "fig.show()"
      ],
      "metadata": {
        "id": "Jv5j0JgKfXwK"
      },
      "execution_count": null,
      "outputs": []
    },
    {
      "cell_type": "markdown",
      "source": [
        "- Penicillin is a medication used to manage and treat a wide range of infections. It is in the beta-lactam antibiotic class of drugs. This activity describes penicillin's indications, action, and contraindications as a valuable agent in treating infection."
      ],
      "metadata": {
        "id": "y4VCX1LGfXwP"
      }
    },
    {
      "cell_type": "code",
      "source": [
        "#Test_Results\n",
        "\n",
        "fig,ax = plt.subplots(figsize = (20,10))\n",
        "sns.countplot(df, x = \"Test_Results\", ax = ax,order=df['Test_Results'].value_counts().index)\n",
        "\n",
        "for rect in ax.patches:\n",
        "    height = rect.get_height()\n",
        "    ax.annotate(text = f\"{numerize.numerize(height)}\",\n",
        "               xy = (rect.get_x()+rect.get_width()/2, height),\n",
        "               xytext = (0,3),\n",
        "               textcoords = \"offset points\",\n",
        "               ha = \"center\",\n",
        "               va = \"bottom\",\n",
        "               color = \"black\")\n",
        "ax.set_title(\"Test_Results\", fontsize = 10, fontweight = \"bold\", color = \"darkred\")\n",
        "fig.show()"
      ],
      "metadata": {
        "id": "aF9lB29zfXwP"
      },
      "execution_count": null,
      "outputs": []
    },
    {
      "cell_type": "code",
      "source": [
        "#Bi-variate"
      ],
      "metadata": {
        "id": "3xZhu9-EfXwP"
      },
      "execution_count": null,
      "outputs": []
    },
    {
      "cell_type": "code",
      "source": [
        "df['Date_of_Admission'] = pd.to_datetime(df['Date_of_Admission'])\n",
        "df['Discharge_Date'] = pd.to_datetime(df['Discharge_Date'])"
      ],
      "metadata": {
        "id": "dATv1UtUfXwP"
      },
      "execution_count": null,
      "outputs": []
    },
    {
      "cell_type": "code",
      "source": [
        "df['Admission_datee'] = df['Date_of_Admission'].dt.weekday\n",
        "df['Admission_month'] = df['Date_of_Admission'].dt.month\n",
        "df['Days_hospitalized'] = df['Discharge_Date'] - df['Date_of_Admission']\n",
        "df['day_of_week'] = df['Date_of_Admission'].dt.day_of_week\n",
        "df['Discharge_month'] = df['Discharge_Date'].dt.day_of_week\n",
        "df['Discharge_Datee'] = df['Discharge_Date'].dt.weekday\n"
      ],
      "metadata": {
        "id": "yZ4Y0in8fXwP"
      },
      "execution_count": null,
      "outputs": []
    },
    {
      "cell_type": "code",
      "source": [
        "df.head()"
      ],
      "metadata": {
        "id": "PpN2mX75fXwP"
      },
      "execution_count": null,
      "outputs": []
    },
    {
      "cell_type": "code",
      "source": [
        "# Billing Amount according to Medical Condition and Test Results\n",
        "df1 = df.groupby(['Blood_Type', 'Medical_Condition'])[['Billing_Amount']].sum().reset_index()\n",
        "plt.figure(figsize=(20,10))\n",
        "sns.barplot(x=df1['Medical_Condition'], y=df1['Billing_Amount'], hue=df['Test_Results'], palette=\"rainbow\")\n",
        "plt.title(\"Billing Amount according to Blood_Type and Medical conditions and how does cost affects on this segments\")\n",
        "plt.legend(loc='upper right')\n",
        "plt.ylabel(\"Billing Amount\")\n",
        "plt.xticks(rotation=0, fontsize = 10)\n",
        "plt.show()"
      ],
      "metadata": {
        "id": "N90e5EqDfXwP"
      },
      "execution_count": null,
      "outputs": []
    },
    {
      "cell_type": "code",
      "source": [
        "#Blood_Type - Medical_Conditions\n",
        "\n",
        "fig,ax = plt.subplots(figsize = (20,6))\n",
        "sns.countplot(df, x = \"Blood_Type\", hue=df['Medical_Condition'],ax = ax,order=df['Blood_Type'].value_counts().index)\n",
        "plt.legend(loc='lower right')\n",
        "for rect in ax.patches:\n",
        "    height = rect.get_height()\n",
        "    ax.annotate(text = f\"{numerize.numerize(height)}\",\n",
        "               xy = (rect.get_x()+rect.get_width()/2, height),\n",
        "               xytext = (0,3),\n",
        "               textcoords = \"offset points\",\n",
        "               ha = \"center\",\n",
        "               va = \"bottom\",\n",
        "               color = \"black\")\n",
        "ax.set_title(\"Blood_Type - Medical_Conditions\", fontsize = 10, fontweight = \"bold\", color = \"darkred\")\n",
        "fig.show()"
      ],
      "metadata": {
        "id": "qZcX-L0rfXwQ"
      },
      "execution_count": null,
      "outputs": []
    },
    {
      "cell_type": "markdown",
      "source": [
        "- In *AB-* we can view that most of *patient* are in Hypertention or obesity as both are connected if you are in obesity then most probably you can be in hypertention\n",
        "- In *AB+* most *patient* are target of *Arthritis* and *Obesity*\n",
        "- In *B-* most of *patient* are target of *Cancer* & *Diabetes*\n",
        "- In *O+* most of *patient* are target of *Asthma*\n"
      ],
      "metadata": {
        "id": "oiAjg_lYfXwQ"
      }
    },
    {
      "cell_type": "code",
      "source": [
        "#Blood_Type - Gender\n",
        "\n",
        "fig,ax = plt.subplots(figsize = (20,6))\n",
        "sns.countplot(df, x = \"Blood_Type\", hue=df['Gender'],ax = ax,order=df['Blood_Type'].value_counts().index)\n",
        "plt.legend(loc='lower right')\n",
        "for rect in ax.patches:\n",
        "    height = rect.get_height()\n",
        "    ax.annotate(text = f\"{numerize.numerize(height)}\",\n",
        "               xy = (rect.get_x()+rect.get_width()/2, height),\n",
        "               xytext = (0,3),\n",
        "               textcoords = \"offset points\",\n",
        "               ha = \"center\",\n",
        "               va = \"bottom\",\n",
        "               color = \"black\")\n",
        "ax.set_title(\"Blood_Type - Gender\", fontsize = 10, fontweight = \"bold\", color = \"darkred\")\n",
        "fig.show()"
      ],
      "metadata": {
        "id": "HtNOF9PofXwQ"
      },
      "execution_count": null,
      "outputs": []
    },
    {
      "cell_type": "code",
      "source": [
        "#Blood_Type - Medication\n",
        "\n",
        "fig,ax = plt.subplots(figsize = (20,6))\n",
        "sns.countplot(df, x = \"Blood_Type\", hue=df['Medication'],ax = ax,order=df['Blood_Type'].value_counts().index)\n",
        "plt.legend(loc='lower right')\n",
        "for rect in ax.patches:\n",
        "    height = rect.get_height()\n",
        "    ax.annotate(text = f\"{numerize.numerize(height)}\",\n",
        "               xy = (rect.get_x()+rect.get_width()/2, height),\n",
        "               xytext = (0,3),\n",
        "               textcoords = \"offset points\",\n",
        "               ha = \"center\",\n",
        "               va = \"bottom\",\n",
        "               color = \"black\")\n",
        "ax.set_title(\"Blood_Type - Medication\", fontsize = 10, fontweight = \"bold\", color = \"darkred\")\n",
        "fig.show()"
      ],
      "metadata": {
        "id": "rYhBxiJOfXwQ"
      },
      "execution_count": null,
      "outputs": []
    },
    {
      "cell_type": "code",
      "source": [
        "#Medical_Condition - Gender\n",
        "\n",
        "fig,ax = plt.subplots(figsize = (20,6))\n",
        "sns.countplot(df, x = \"Medical_Condition\", hue=df['Gender'],ax = ax,order=df['Medical_Condition'].value_counts().index)\n",
        "plt.legend(loc='lower right')\n",
        "for rect in ax.patches:\n",
        "    height = rect.get_height()\n",
        "    ax.annotate(text = f\"{numerize.numerize(height)}\",\n",
        "               xy = (rect.get_x()+rect.get_width()/2, height),\n",
        "               xytext = (0,3),\n",
        "               textcoords = \"offset points\",\n",
        "               ha = \"center\",\n",
        "               va = \"bottom\",\n",
        "               color = \"black\")\n",
        "ax.set_title(\"Medical_Condition - Gender\", fontsize = 10, fontweight = \"bold\", color = \"darkred\")\n",
        "fig.show()"
      ],
      "metadata": {
        "id": "u38r4KZ0fXwQ"
      },
      "execution_count": null,
      "outputs": []
    },
    {
      "cell_type": "code",
      "source": [
        "#Medical_Condition - Insurance_Provider\n",
        "\n",
        "fig,ax = plt.subplots(figsize = (20,6))\n",
        "sns.countplot(df, x = \"Medical_Condition\", hue=df['Insurance_Provider'],ax = ax,order=df['Medical_Condition'].value_counts().index)\n",
        "plt.legend(loc='lower right')\n",
        "for rect in ax.patches:\n",
        "    height = rect.get_height()\n",
        "    ax.annotate(text = f\"{numerize.numerize(height)}\",\n",
        "               xy = (rect.get_x()+rect.get_width()/2, height),\n",
        "               xytext = (0,3),\n",
        "               textcoords = \"offset points\",\n",
        "               ha = \"center\",\n",
        "               va = \"bottom\",\n",
        "               color = \"black\")\n",
        "ax.set_title(\"Medical_Condition - Insurance_Provider\", fontsize = 10, fontweight = \"bold\", color = \"darkred\")\n",
        "fig.show()"
      ],
      "metadata": {
        "id": "1_k-3L9ufXwQ"
      },
      "execution_count": null,
      "outputs": []
    },
    {
      "cell_type": "code",
      "source": [
        "#Medical_Condition - Medication\n",
        "\n",
        "fig,ax = plt.subplots(figsize = (20,6))\n",
        "sns.countplot(df, x = \"Medical_Condition\", hue=df['Medication'],ax = ax,order=df['Medical_Condition'].value_counts().index)\n",
        "plt.legend(loc='lower right')\n",
        "for rect in ax.patches:\n",
        "    height = rect.get_height()\n",
        "    ax.annotate(text = f\"{numerize.numerize(height)}\",\n",
        "               xy = (rect.get_x()+rect.get_width()/2, height),\n",
        "               xytext = (0,3),\n",
        "               textcoords = \"offset points\",\n",
        "               ha = \"center\",\n",
        "               va = \"bottom\",\n",
        "               color = \"black\")\n",
        "ax.set_title(\"Medical_Condition - Medication\", fontsize = 10, fontweight = \"bold\", color = \"darkred\")\n",
        "fig.show()"
      ],
      "metadata": {
        "id": "AGtVcv6vfXwQ"
      },
      "execution_count": null,
      "outputs": []
    },
    {
      "cell_type": "markdown",
      "source": [
        "- In *Arthritis* most repeated *medication* is *Penicillin*\n",
        "- In *Asthma* most repeated *medication* is *Aspirin*"
      ],
      "metadata": {
        "id": "SPWcDH05fXwQ"
      }
    },
    {
      "cell_type": "code",
      "source": [
        "#Gender - Insurance_Provider\n",
        "\n",
        "fig,ax = plt.subplots(figsize = (20,6))\n",
        "sns.countplot(df, x = \"Gender\", hue=df['Insurance_Provider'],ax = ax,order=df['Gender'].value_counts().index)\n",
        "plt.legend(loc='lower right')\n",
        "for rect in ax.patches:\n",
        "    height = rect.get_height()\n",
        "    ax.annotate(text = f\"{numerize.numerize(height)}\",\n",
        "               xy = (rect.get_x()+rect.get_width()/2, height),\n",
        "               xytext = (0,3),\n",
        "               textcoords = \"offset points\",\n",
        "               ha = \"center\",\n",
        "               va = \"bottom\",\n",
        "               color = \"black\")\n",
        "ax.set_title(\"Gender - Insurance_Provider\", fontsize = 10, fontweight = \"bold\", color = \"darkred\")\n",
        "fig.show()"
      ],
      "metadata": {
        "id": "KBAMChpnfXwQ"
      },
      "execution_count": null,
      "outputs": []
    },
    {
      "cell_type": "markdown",
      "source": [
        "- In female segment best facility is provided by Medicore and in Male segments it is totally different, in male Blue Cross is most famous"
      ],
      "metadata": {
        "id": "64ktkqBrfXwR"
      }
    },
    {
      "cell_type": "code",
      "source": [
        "#Gender - Medication\n",
        "\n",
        "fig,ax = plt.subplots(figsize = (20,6))\n",
        "sns.countplot(df, x = \"Gender\", hue=df['Medication'],ax = ax,order=df['Gender'].value_counts().index)\n",
        "plt.legend(loc='lower right')\n",
        "for rect in ax.patches:\n",
        "    height = rect.get_height()\n",
        "    ax.annotate(text = f\"{numerize.numerize(height)}\",\n",
        "               xy = (rect.get_x()+rect.get_width()/2, height),\n",
        "               xytext = (0,3),\n",
        "               textcoords = \"offset points\",\n",
        "               ha = \"center\",\n",
        "               va = \"bottom\",\n",
        "               color = \"black\")\n",
        "ax.set_title(\"Gender - Medication\", fontsize = 10, fontweight = \"bold\", color = \"darkred\")\n",
        "fig.show()"
      ],
      "metadata": {
        "id": "_3XHgx7SfXwR"
      },
      "execution_count": null,
      "outputs": []
    },
    {
      "cell_type": "markdown",
      "source": [
        "- In this graph we can see that male are having highest *medication* of *Penicillin* maybe most of male will be having *Arthritis*"
      ],
      "metadata": {
        "id": "jNo0UDAyfXwR"
      }
    },
    {
      "cell_type": "code",
      "source": [
        "#Days_Hospitalized - Medical_Conditions\n",
        "\n",
        "fig,ax = plt.subplots(figsize = (20,10))\n",
        "sns.countplot(df, y = \"Days_hospitalized\", hue=df['Medical_Condition'],ax = ax,order=df['Days_hospitalized'].value_counts().iloc[:10].index)\n",
        "plt.legend(loc='lower right')\n",
        "ax.set_title(\"Blood_Type - Medical_Conditions\", fontsize = 10, fontweight = \"bold\", color = \"darkred\")\n",
        "fig.show()"
      ],
      "metadata": {
        "id": "oZNZRbOefXwR"
      },
      "execution_count": null,
      "outputs": []
    },
    {
      "cell_type": "markdown",
      "source": [
        "**Model Building**"
      ],
      "metadata": {
        "id": "O-a-aapbfXwR"
      }
    },
    {
      "cell_type": "code",
      "source": [
        "##Splitting data into X & y\n",
        "\n",
        "X = df.drop(columns=['Name','Date_of_Admission','Billing_Amount', 'Discharge_Date','Test_Results'],axis=1)\n",
        "y = df['Test_Results']"
      ],
      "metadata": {
        "id": "jHXQqRdUfXwR"
      },
      "execution_count": null,
      "outputs": []
    },
    {
      "cell_type": "code",
      "source": [
        "# Do Label encoding on y label\n",
        "\n",
        "from sklearn.preprocessing import LabelEncoder\n",
        "lb = LabelEncoder()\n",
        "y = lb.fit_transform(y)"
      ],
      "metadata": {
        "id": "EHLaqthjfXwR"
      },
      "execution_count": null,
      "outputs": []
    },
    {
      "cell_type": "code",
      "source": [
        "# Import category encoder and perfom on X data\n",
        "\n",
        "import category_encoders as ce\n",
        "X = ce.TargetEncoder(smoothing=0).fit_transform(X,y)"
      ],
      "metadata": {
        "id": "rzjzvcrIfXwR"
      },
      "execution_count": null,
      "outputs": []
    },
    {
      "cell_type": "code",
      "source": [
        "#Train-test split\n",
        "\n",
        "from sklearn.model_selection import train_test_split\n",
        "X_train,X_test,y_train,y_test = train_test_split(X,y,test_size=0.2,random_state=42)\n",
        "print(X_train.shape,X_test.shape)\n"
      ],
      "metadata": {
        "id": "McoQeOR1fXwR"
      },
      "execution_count": null,
      "outputs": []
    },
    {
      "cell_type": "code",
      "source": [
        "#Standarscaler\n",
        "\n",
        "from sklearn.preprocessing import StandardScaler\n",
        "sc = StandardScaler()\n",
        "X_train = sc.fit_transform(X_train)\n",
        "X_test = sc.transform(X_test)"
      ],
      "metadata": {
        "id": "UoTx8Yd6fXwR"
      },
      "execution_count": null,
      "outputs": []
    },
    {
      "cell_type": "code",
      "source": [
        "X_train.shape"
      ],
      "metadata": {
        "id": "gnMpnQ_ZfXwS"
      },
      "execution_count": null,
      "outputs": []
    },
    {
      "cell_type": "code",
      "source": [
        "from sklearn.ensemble import RandomForestClassifier\n",
        "random = RandomForestClassifier()\n",
        "random.fit(X_train,y_train)\n"
      ],
      "metadata": {
        "id": "lIirOX1_fXwS"
      },
      "execution_count": null,
      "outputs": []
    },
    {
      "cell_type": "code",
      "source": [
        "pred_2 = random.predict(X_test)"
      ],
      "metadata": {
        "id": "wcrRK7AQfXwS"
      },
      "execution_count": null,
      "outputs": []
    },
    {
      "cell_type": "code",
      "source": [
        "from sklearn.metrics import accuracy_score\n",
        "acc = accuracy_score (y_test, pred_2)\n",
        "print(\"Acc: %.2f%%\" % (acc * 100.0))"
      ],
      "metadata": {
        "id": "98oDJoFPfXwS"
      },
      "execution_count": null,
      "outputs": []
    }
  ]
}